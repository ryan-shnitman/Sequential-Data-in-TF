{
 "cells": [
  {
   "cell_type": "code",
   "execution_count": 5,
   "metadata": {},
   "outputs": [],
   "source": [
    "import numpy as np\n",
    "import matplotlib.pyplot as plt\n",
    "import tensorflow as tf\n",
    "from tensorflow import keras"
   ]
  },
  {
   "cell_type": "code",
   "execution_count": 15,
   "metadata": {},
   "outputs": [],
   "source": [
    "class Synthetic_Time_Series:\n",
    "    \n",
    "    def __init__(self, time, series=None):\n",
    "        assert len(time)>0\n",
    "        self.time = time\n",
    "        if series is None:\n",
    "            self.series = []\n",
    "        else:\n",
    "            self.series = series\n",
    "        \n",
    "    def plot(self, start=0, format='-', end=None, label=None):\n",
    "        plt.plot(self.time[start:end], self.series[start:end], format, label=label)\n",
    "        plt.xlabel(\"Time\")\n",
    "        plt.ylabel(\"Value\")\n",
    "        if label:\n",
    "            plt.legend(fontsize=14)\n",
    "        plt.grid(True)\n",
    "    \n",
    "    def build_series(self, baseline, slope, period=1, amplitude=1, noise_level=1, seed=0):\n",
    "        \n",
    "        ''' Repeats seasonal pattern for each time period '''\n",
    "        def seasonality(self, period, amplitude):\n",
    "            def seasonal_pattern(season_time):\n",
    "                return np.where(season_time < 0.4,\n",
    "                    np.cos(season_time * 2 * np.pi),\n",
    "                    1 / np.exp(3 * season_time))\n",
    "            \n",
    "            season_time = (time % period) / period\n",
    "            return amplitude * seasonal_pattern(season_time)\n",
    "    \n",
    "        ''' Add noise '''\n",
    "        def noise(self, noise_level=1, seed=None):\n",
    "            rnd = np.random.RandomState(seed)\n",
    "            return rnd.randn(len(time)) * noise_level\n",
    "    \n",
    "        self.series = baseline + slope*time + seasonality(time, period=period, amplitude=amplitude)\n",
    "        self.series += noise(time, noise_level, seed)\n",
    "    \n",
    "    "
   ]
  },
  {
   "cell_type": "code",
   "execution_count": 16,
   "metadata": {},
   "outputs": [
    {
     "data": {
      "image/png": "[encoded data removed]",
      "text/plain": [
       "<Figure size 432x288 with 1 Axes>"
      ]
     },
     "metadata": {
      "needs_background": "light"
     },
     "output_type": "display_data"
    }
   ],
   "source": [
    "# test\n",
    "time = np.arange(4 * 365 + 1, dtype=\"float32\")\n",
    "baseline = 10 \n",
    "baseline = 10\n",
    "amplitude = 40\n",
    "period = 4\n",
    "slope = 0.01\n",
    "noise_level = 2\n",
    "seed = 42\n",
    "\n",
    "time_series = Synthetic_Time_Series(time)\n",
    "time_series.build_series(baseline, slope, period, amplitude, noise_level, seed)\n",
    "time_series.plot()"
   ]
  },
  {
   "cell_type": "code",
   "execution_count": 4,
   "metadata": {},
   "outputs": [],
   "source": [
    "class Forecast:\n",
    "    \n",
    "    def __init__(self, series, split):\n",
    "        self.train_series = Synthetic_Time_Series(series.time[:split], series.series[:split])\n",
    "        self.test_series = Synthetic_Time_Series(series.time[split:], series.series[split:])\n",
    "        self.pred_series = Synthetic_Time_Series(series.time[split:])\n",
    "        self.split = split\n",
    "        \n",
    "    def plot(self):\n",
    "        time = self.train_series.time + self.test_series.time\n",
    "        series = self.train_series + self.test_series.series\n",
    "        plt.plot(time, series)\n",
    "        plt.plot(time, [None]*self.split + self.pred_series.series)\n",
    "        plt.xlabel(\"Time\")\n",
    "        plt.ylabel(\"Value\")\n",
    "        plt.grid(True)\n",
    "        \n",
    "        print(keras.metrics.mean_squared_error(x_valid, naive_forecast).numpy())\n",
    "        \n",
    "    def naive(self):\n",
    "        self.pred_series.series = self.test_series.series[self.split - 1:-1]\n",
    "    \n",
    "    def moving_avg(self, window_size=1):\n",
    "        for time in range(len(series) - window_size):\n",
    "            forecast.append(series[time:time + window_size].mean())\n",
    "        return np.array(forecast)\n",
    "    \n",
    "    def moving_avg_diff(self):\n",
    "        return\n",
    "    \n",
    "    def moving_avg_double_diff(self):\n",
    "        return\n",
    "    "
   ]
  },
  {
   "cell_type": "code",
   "execution_count": 17,
   "metadata": {},
   "outputs": [
    {
     "ename": "ValueError",
     "evalue": "operands could not be broadcast together with shapes (1000,) (461,) ",
     "output_type": "error",
     "traceback": [
      "\u001b[1;31m---------------------------------------------------------------------------\u001b[0m",
      "\u001b[1;31mValueError\u001b[0m                                Traceback (most recent call last)",
      "\u001b[1;32m<ipython-input-17-2c70b0e8e298>\u001b[0m in \u001b[0;36m<module>\u001b[1;34m\u001b[0m\n\u001b[0;32m      4\u001b[0m \u001b[1;33m\u001b[0m\u001b[0m\n\u001b[0;32m      5\u001b[0m \u001b[0mforecast\u001b[0m\u001b[1;33m.\u001b[0m\u001b[0mnaive\u001b[0m\u001b[1;33m(\u001b[0m\u001b[1;33m)\u001b[0m\u001b[1;33m\u001b[0m\u001b[1;33m\u001b[0m\u001b[0m\n\u001b[1;32m----> 6\u001b[1;33m \u001b[0mforecast\u001b[0m\u001b[1;33m.\u001b[0m\u001b[0mplot\u001b[0m\u001b[1;33m(\u001b[0m\u001b[1;33m)\u001b[0m\u001b[1;33m\u001b[0m\u001b[1;33m\u001b[0m\u001b[0m\n\u001b[0m",
      "\u001b[1;32m<ipython-input-4-921f05fb448b>\u001b[0m in \u001b[0;36mplot\u001b[1;34m(self)\u001b[0m\n\u001b[0;32m      8\u001b[0m \u001b[1;33m\u001b[0m\u001b[0m\n\u001b[0;32m      9\u001b[0m     \u001b[1;32mdef\u001b[0m \u001b[0mplot\u001b[0m\u001b[1;33m(\u001b[0m\u001b[0mself\u001b[0m\u001b[1;33m)\u001b[0m\u001b[1;33m:\u001b[0m\u001b[1;33m\u001b[0m\u001b[1;33m\u001b[0m\u001b[0m\n\u001b[1;32m---> 10\u001b[1;33m         \u001b[0mtime\u001b[0m \u001b[1;33m=\u001b[0m \u001b[0mself\u001b[0m\u001b[1;33m.\u001b[0m\u001b[0mtrain_series\u001b[0m\u001b[1;33m.\u001b[0m\u001b[0mtime\u001b[0m \u001b[1;33m+\u001b[0m \u001b[0mself\u001b[0m\u001b[1;33m.\u001b[0m\u001b[0mtest_series\u001b[0m\u001b[1;33m.\u001b[0m\u001b[0mtime\u001b[0m\u001b[1;33m\u001b[0m\u001b[1;33m\u001b[0m\u001b[0m\n\u001b[0m\u001b[0;32m     11\u001b[0m         \u001b[0mseries\u001b[0m \u001b[1;33m=\u001b[0m \u001b[0mself\u001b[0m\u001b[1;33m.\u001b[0m\u001b[0mtrain_series\u001b[0m \u001b[1;33m+\u001b[0m \u001b[0mself\u001b[0m\u001b[1;33m.\u001b[0m\u001b[0mtest_series\u001b[0m\u001b[1;33m.\u001b[0m\u001b[0mseries\u001b[0m\u001b[1;33m\u001b[0m\u001b[1;33m\u001b[0m\u001b[0m\n\u001b[0;32m     12\u001b[0m         \u001b[0mplt\u001b[0m\u001b[1;33m.\u001b[0m\u001b[0mplot\u001b[0m\u001b[1;33m(\u001b[0m\u001b[0mtime\u001b[0m\u001b[1;33m,\u001b[0m \u001b[0mseries\u001b[0m\u001b[1;33m)\u001b[0m\u001b[1;33m\u001b[0m\u001b[1;33m\u001b[0m\u001b[0m\n",
      "\u001b[1;31mValueError\u001b[0m: operands could not be broadcast together with shapes (1000,) (461,) "
     ]
    }
   ],
   "source": [
    "# test\n",
    "\n",
    "forecast = Forecast(time_series,1000)\n",
    "\n",
    "forecast.naive()\n",
    "forecast.plot()"
   ]
  },
  {
   "cell_type": "code",
   "execution_count": null,
   "metadata": {},
   "outputs": [],
   "source": [
    "diff_series = (series[365:] - series[:-365])\n",
    "diff_time = time[365:]\n",
    "\n",
    "plt.figure(figsize=(10, 6))\n",
    "plot_series(diff_time, diff_series)\n",
    "plt.show()\n",
    "\n",
    "diff_moving_avg = moving_average_forecast(diff_series, 50)[split_time - 365 - 50:]\n",
    "\n",
    "plt.figure(figsize=(10, 6))\n",
    "plot_series(time_valid, diff_series[split_time - 365:])\n",
    "plot_series(time_valid, diff_moving_avg)\n",
    "plt.show()\n",
    "\n",
    "diff_moving_avg_plus_past = series[split_time - 365:-365] + diff_moving_avg\n",
    "\n",
    "plt.figure(figsize=(10, 6))\n",
    "plot_series(time_valid, x_valid)\n",
    "plot_series(time_valid, diff_moving_avg_plus_past)\n",
    "plt.show()\n",
    "\n",
    "diff_moving_avg_plus_smooth_past = moving_average_forecast(series[split_time - 370:-360], 10) + diff_moving_avg\n",
    "\n",
    "plt.figure(figsize=(10, 6))\n",
    "plot_series(time_valid, x_valid)\n",
    "plot_series(time_valid, diff_moving_avg_plus_smooth_past)\n",
    "plt.show()"
   ]
  },
  {
   "cell_type": "code",
   "execution_count": null,
   "metadata": {},
   "outputs": [],
   "source": []
  }
 ],
 "metadata": {
  "kernelspec": {
   "display_name": "Python 3",
   "language": "python",
   "name": "python3"
  },
  "language_info": {
   "codemirror_mode": {
    "name": "ipython",
    "version": 3
   },
   "file_extension": ".py",
   "mimetype": "text/x-python",
   "name": "python",
   "nbconvert_exporter": "python",
   "pygments_lexer": "ipython3",
   "version": "3.7.9"
  }
 },
 "nbformat": 4,
 "nbformat_minor": 4
}
