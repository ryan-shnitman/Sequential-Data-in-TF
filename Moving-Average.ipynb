{
 "cells": [
  {
   "cell_type": "code",
   "execution_count": 1,
   "metadata": {},
   "outputs": [],
   "source": [
    "import numpy as np\n",
    "import matplotlib.pyplot as plt\n",
    "import tensorflow as tf\n",
    "from tensorflow import keras"
   ]
  },
  {
   "cell_type": "code",
   "execution_count": 15,
   "metadata": {},
   "outputs": [],
   "source": [
    "class Synthetic_Time_Series:\n",
    "    \n",
    "    def __init__(self, time):\n",
    "        assert len(time)>0\n",
    "        self.time = time\n",
    "        self.series = []\n",
    "        \n",
    "    def plot(self, start=0, format='-', end=None, label=None):\n",
    "        plt.plot(time[start:end], series[start:end], format, label=label)\n",
    "        plt.xlabel(\"Time\")\n",
    "        plt.ylabel(\"Value\")\n",
    "        if label:\n",
    "            plt.legend(fontsize=14)\n",
    "        plt.grid(True)\n",
    "    \n",
    "    def build_series(self, baseline, slope, period=1, amplitude=1, noise_level=1, seed=0):\n",
    "        \n",
    "        ''' Repeats seasonal pattern for each time period '''\n",
    "        def seasonality(self, period, amplitude):\n",
    "            def seasonal_pattern(season_time):\n",
    "                return np.where(season_time < 0.4,\n",
    "                    np.cos(season_time * 2 * np.pi),\n",
    "                    1 / np.exp(3 * season_time))\n",
    "            \n",
    "            season_time = (time % period) / period\n",
    "            return amplitude * seasonal_pattern(season_time)\n",
    "    \n",
    "        ''' Add noise '''\n",
    "        def noise(self, noise_level=1, seed=None):\n",
    "            rnd = np.random.RandomState(seed)\n",
    "            return rnd.randn(len(time)) * noise_level\n",
    "    \n",
    "        self.series = baseline + slope*time + seasonality(time, period=period, amplitude=amplitude)\n",
    "        self.series += noise(time, noise_level, seed)\n",
    "    \n",
    "    "
   ]
  },
  {
   "cell_type": "code",
   "execution_count": 17,
   "metadata": {},
   "outputs": [
    {
     "data": {
      "image/png": "[encoded data removed]",
      "text/plain": [
       "<Figure size 432x288 with 1 Axes>"
      ]
     },
     "metadata": {
      "needs_background": "light"
     },
     "output_type": "display_data"
    }
   ],
   "source": [
    "# testing a trend\n",
    "time = np.arange(4 * 365 + 1, dtype=\"float32\")\n",
    "baseline = 10 \n",
    "baseline = 10\n",
    "amplitude = 40\n",
    "period = 4\n",
    "slope = 0.01\n",
    "noise_level = 2\n",
    "seed = 42\n",
    "\n",
    "time_series = Synthetic_Time_Series(time)\n",
    "time_series.build_series(baseline, slope, period, amplitude, noise_level, seed)\n",
    "time_series.plot()"
   ]
  },
  {
   "cell_type": "code",
   "execution_count": null,
   "metadata": {},
   "outputs": [],
   "source": [
    "class Forecast:\n",
    "    \n",
    "    def __init__(self, series, split):\n",
    "        self.train_series = Synthetic_Time_Series(series.time[:split])\n",
    "        self.test_series = Synthetic_Time_Series(series.time[split:])\n",
    "        self.pred_series = Synthetic_Time_Series(series.time[split:])\n",
    "        \n",
    "    def plot(self):\n",
    "        plt.figure(figsize=(10, 6))\n",
    "        train_series.plot()\n",
    "        plt.figure(figsize=(10, 6))\n",
    "        test_series.plot()\n",
    "        plt.figure(figsize=(10, 6))\n",
    "        pred_series.plot()\n",
    "        \n",
    "    def naive(self):\n",
    "        return\n",
    "    \n",
    "    def moving_avg(self):\n",
    "        return\n",
    "    \n",
    "    def moving_avg_diff(self):\n",
    "        return\n",
    "    \n",
    "    def moving_avg_double_diff(self):\n",
    "        return\n",
    "    "
   ]
  }
 ],
 "metadata": {
  "kernelspec": {
   "display_name": "Python 3",
   "language": "python",
   "name": "python3"
  },
  "language_info": {
   "codemirror_mode": {
    "name": "ipython",
    "version": 3
   },
   "file_extension": ".py",
   "mimetype": "text/x-python",
   "name": "python",
   "nbconvert_exporter": "python",
   "pygments_lexer": "ipython3",
   "version": "3.7.9"
  }
 },
 "nbformat": 4,
 "nbformat_minor": 4
}
